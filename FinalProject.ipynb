{
 "cells": [
  {
   "cell_type": "markdown",
   "metadata": {},
   "source": [
    "# COGS 108 - Final Project "
   ]
  },
  {
   "cell_type": "markdown",
   "metadata": {},
   "source": [
    "# Overview"
   ]
  },
  {
   "cell_type": "markdown",
   "metadata": {},
   "source": [
    "*Fill in your overview here*"
   ]
  },
  {
   "cell_type": "markdown",
   "metadata": {},
   "source": [
    "# Names\n",
    "\n",
    "- Karen Rodriguez Pinto\n",
    "- Enlin Wei\n",
    "- Yumi Minami \n",
    "- Kanami Hannah Tanaka"
   ]
  },
  {
   "cell_type": "markdown",
   "metadata": {},
   "source": [
    "# Group Members IDs\n",
    "\n",
    "- A15161856\n",
    "- A12938737\n",
    "- A12669124\n",
    "- A########"
   ]
  },
  {
   "cell_type": "markdown",
   "metadata": {},
   "source": [
    "# Research Question"
   ]
  },
  {
   "cell_type": "markdown",
   "metadata": {},
   "source": [
    "*Fill in your research question here*"
   ]
  },
  {
   "cell_type": "markdown",
   "metadata": {},
   "source": [
    "## Background and Prior Work"
   ]
  },
  {
   "cell_type": "markdown",
   "metadata": {},
   "source": [
    "*Fill in your background and prior work here* \n",
    "\n",
    "References (include links):\n",
    "- 1)\n",
    "- 2)"
   ]
  },
  {
   "cell_type": "markdown",
   "metadata": {},
   "source": [
    "# Hypothesis\n"
   ]
  },
  {
   "cell_type": "markdown",
   "metadata": {},
   "source": [
    "*Fill in your hypotheses here*"
   ]
  },
  {
   "cell_type": "markdown",
   "metadata": {},
   "source": [
    "# Dataset(s)"
   ]
  },
  {
   "cell_type": "markdown",
   "metadata": {},
   "source": [
    "*Fill in your dataset information here*\n",
    "\n",
    "(Copy this information for each dataset)\n",
    "- Dataset Name:\n",
    "- Link to the dataset:\n",
    "- Number of observations:\n",
    "\n",
    "1-2 sentences describing each dataset. \n",
    "\n",
    "If you plan to use multiple datasets, add 1-2 sentences about how you plan to combine these datasets."
   ]
  },
  {
   "cell_type": "markdown",
   "metadata": {},
   "source": [
    "# Setup"
   ]
  },
  {
   "cell_type": "code",
   "execution_count": 1,
   "metadata": {},
   "outputs": [],
   "source": [
    "## YOUR CODE HERE\n",
    "import random as rd\n",
    "import pandas as pd"
   ]
  },
  {
   "cell_type": "markdown",
   "metadata": {},
   "source": [
    "# Data Cleaning"
   ]
  },
  {
   "cell_type": "markdown",
   "metadata": {},
   "source": [
    "Describe your data cleaning steps here."
   ]
  },
  {
   "cell_type": "code",
   "execution_count": 2,
   "metadata": {},
   "outputs": [],
   "source": [
    "## YOUR CODE HERE\n",
    "## FEEL FREE TO ADD MULTIPLE CELLS PER SECTION"
   ]
  },
  {
   "cell_type": "code",
   "execution_count": 3,
   "metadata": {},
   "outputs": [],
   "source": [
    "\"\"\"\"\n",
    "Gets a certain number of lines at random from a string.\n",
    "--INPUTS--\n",
    "    input_string: string from which to extract a random number of lines\n",
    "    num_lines_to_get: number of lines to get at random\n",
    "    already_got: list of lines that are already picked, to prevent picking same line twice\n",
    "--OUTPUTS--\n",
    "    output: output string containing 'num_lines_to_get' number of random lines\n",
    "\"\"\"\n",
    "def get_rand_lines(input_string,num_lines_to_get,already_got=[]):\n",
    "    # output to save random lines\n",
    "    output = \"\"\n",
    "    # max lines in input string\n",
    "    MAX_LINES = len(input_string)\n",
    "    # number of lines that have been picked\n",
    "    ith_time = 0\n",
    "    # while we haven't gotten desired number of lines\n",
    "    while ith_time < num_lines_to_get:\n",
    "        # picks random line number in range of 0 to MAX_LINES-1\n",
    "        ith_line = rd.randint(0, MAX_LINES-1)\n",
    "        # checks if random line number has already been picked\n",
    "        if ith_line not in already_got:\n",
    "            # adds randomly picked line to output\n",
    "            output = output + input_string[ith_line]\n",
    "            # saves that line number to already_got\n",
    "            already_got.append(ith_line)\n",
    "            # increments ith_time\n",
    "            ith_time = ith_time + 1\n",
    "    return output"
   ]
  },
  {
   "cell_type": "code",
   "execution_count": 4,
   "metadata": {},
   "outputs": [],
   "source": [
    "# opens csv file and reads lines in it into list of strings\n",
    "cit_lines = open(\"parking-citations.csv\", 'r').readlines()\n",
    "# uses get_rand_lines method to extract 100000 lines from it\n",
    "# aleady_got=[0] because we have to get the header\n",
    "cit_lines_100000_rand = get_rand_lines(cit_lines, 100000, already_got=[0])\n",
    "# writes in the headers (line 0 in 'cit_lines'), and the 100000 random lines\n",
    "outfile = open(\"100000-rand-parking-citations.csv\", 'w').write(cit_lines[0] + cit_lines_100000_rand)"
   ]
  },
  {
   "cell_type": "code",
   "execution_count": 5,
   "metadata": {},
   "outputs": [
    {
     "name": "stdout",
     "output_type": "stream",
     "text": [
      "      Ticket number           Issue Date  Issue time Meter Id  Marked Time  \\\n",
      "0        4254528994  2015-03-20T00:00:00      1429.0   SVV385          NaN   \n",
      "1        4251151450  2015-01-29T00:00:00        34.0      NaN          NaN   \n",
      "2        4305675695  2017-04-19T00:00:00       639.0      NaN          NaN   \n",
      "3        4322988924  2017-12-21T00:00:00       854.0      NaN          NaN   \n",
      "4        4285548131  2016-06-21T00:00:00      1246.0      NaN          NaN   \n",
      "5        4328592704  2018-03-15T00:00:00       801.0      NaN          NaN   \n",
      "6        4341949043  2018-10-19T00:00:00      1229.0      177          NaN   \n",
      "7        4347813212  2019-01-29T00:00:00      1222.0      NaN          NaN   \n",
      "8        4321601756  2017-12-01T00:00:00      1237.0      NaN          NaN   \n",
      "9        4257267383  2015-04-29T00:00:00      1048.0      NaN          NaN   \n",
      "10       4324242101  2018-01-10T00:00:00      1300.0    SG120          NaN   \n",
      "11       4304138134  2017-03-01T00:00:00       305.0      NaN          NaN   \n",
      "12       1109449176  2015-07-29T00:00:00      2035.0      NaN          NaN   \n",
      "13       4334059962  2018-06-27T00:00:00       819.0      NaN          NaN   \n",
      "14       4311674146  2017-06-30T00:00:00      1230.0      NaN          NaN   \n",
      "15       4296601234  2016-11-04T00:00:00      1006.0      NaN          NaN   \n",
      "16       4333592922  2018-06-14T00:00:00      1551.0      NaN       1430.0   \n",
      "17       4297049212  2016-11-30T00:00:00      1019.0      NaN          NaN   \n",
      "18       4301650474  2017-01-24T00:00:00      1007.0      NaN          NaN   \n",
      "19       4285187292  2016-06-24T00:00:00      1017.0      NaN          NaN   \n",
      "20       4304694203  2017-03-08T00:00:00      1206.0      NaN          NaN   \n",
      "21       4286135210  2016-06-28T00:00:00      1631.0      NaN          NaN   \n",
      "22       4300944362  2017-01-10T00:00:00      1316.0      NaN          NaN   \n",
      "23       4300578472  2016-12-27T00:00:00      1940.0    SC262          NaN   \n",
      "24       4292001324  2016-09-10T00:00:00      2359.0      NaN          NaN   \n",
      "25       4286212954  2016-07-14T00:00:00      1931.0      NaN          NaN   \n",
      "26       4286348581  2016-06-20T00:00:00      1012.0      NaN          NaN   \n",
      "27       4255608534  2015-03-24T00:00:00      1106.0      NaN          NaN   \n",
      "28       4314065652  2017-08-07T00:00:00       823.0   CB4325          NaN   \n",
      "29       4348550043  2019-01-31T00:00:00       814.0      NaN          NaN   \n",
      "...             ...                  ...         ...      ...          ...   \n",
      "99970    4270990802  2015-11-18T00:00:00      1344.0      NaN       1230.0   \n",
      "99971    1109336491  2016-01-19T00:00:00      1115.0      NaN          NaN   \n",
      "99972    4325609746  2018-02-07T00:00:00      1555.0     WV63          NaN   \n",
      "99973    4272356244  2015-11-22T00:00:00       146.0      NaN          NaN   \n",
      "99974    4259601150  2015-06-16T00:00:00      1218.0      NaN          NaN   \n",
      "99975    4333499273  2018-06-06T00:00:00      1010.0      NaN          NaN   \n",
      "99976    4344993332  2018-12-07T00:00:00      1751.0      NaN          NaN   \n",
      "99977    4259470902  2015-05-19T00:00:00      1233.0      NaN       1057.0   \n",
      "99978    4336769953  2018-08-14T00:00:00       426.0      NaN          NaN   \n",
      "99979    4313157940  2017-08-14T00:00:00      1650.0      NaN          NaN   \n",
      "99980    4294158352  2016-10-20T00:00:00       103.0      NaN          NaN   \n",
      "99981    4345805995  2018-12-21T00:00:00      1037.0      NaN          NaN   \n",
      "99982    4269430443  2015-10-20T00:00:00      1215.0      NaN          NaN   \n",
      "99983    4312731625  2017-07-22T00:00:00      2035.0       70          NaN   \n",
      "99984    4311972895  2017-06-29T00:00:00       940.0      NaN          NaN   \n",
      "99985    4321214203  2017-12-07T00:00:00       839.0      NaN          NaN   \n",
      "99986    4341506186  2018-10-09T00:00:00       915.0      NaN          NaN   \n",
      "99987    4258823586  2015-05-14T00:00:00      1125.0     LT32          NaN   \n",
      "99988    4265716405  2015-08-27T00:00:00      1005.0      NaN          NaN   \n",
      "99989    4286734734  2016-07-25T00:00:00      2336.0      NaN          NaN   \n",
      "99990    4308828064  2017-05-15T00:00:00      1043.0      NaN          NaN   \n",
      "99991    4329267095  2018-04-03T00:00:00      1610.0      NaN          NaN   \n",
      "99992    4322779495  2017-12-20T00:00:00      1204.0    LM347          NaN   \n",
      "99993    4332585493  2018-05-23T00:00:00       439.0      NaN          NaN   \n",
      "99994    4324458714  2018-01-18T00:00:00      1139.0      NaN          NaN   \n",
      "99995    4335649205  2018-07-18T00:00:00      1700.0      NaN          NaN   \n",
      "99996    4272200811  2015-11-26T00:00:00      1106.0      NaN          NaN   \n",
      "99997    4294442246  2016-09-29T00:00:00      1014.0      NaN          NaN   \n",
      "99998    4314524944  2017-08-07T00:00:00      1212.0      NaN          NaN   \n",
      "99999    4308033870  2017-05-17T00:00:00      1020.0      NaN          NaN   \n",
      "\n",
      "      RP State Plate  Plate Expiry Date  VIN  Make Body Style Color  \\\n",
      "0                 CA           201506.0  NaN  TOYT         PA    WT   \n",
      "1                 CA           201508.0  NaN  LEXS         PA    BK   \n",
      "2                 CA           201801.0  NaN  TOYT         PA    TN   \n",
      "3                 CA           201809.0  NaN  TOYT         PA    SL   \n",
      "4                 CA           201701.0  NaN   BMW         PA    SL   \n",
      "5                 CA           201804.0  NaN  TOYT         PA    BL   \n",
      "6                 CA           201903.0  NaN  NISS         PA    WT   \n",
      "7                 CA           201909.0  NaN   BMW         PA    SL   \n",
      "8                 CA           201803.0  NaN  SUBA         PA    RD   \n",
      "9                 CA           201410.0  NaN  TOYT         PA    GY   \n",
      "10                CA           201806.0  NaN  TOYT         PA    GY   \n",
      "11                CA           201612.0  NaN  HOND         PA    RD   \n",
      "12                CA           201508.0  NaN  MITS         PA    WH   \n",
      "13                CA           201905.0  NaN   BMW         PA    BK   \n",
      "14                CA           201801.0  NaN  CHEV         PA    WT   \n",
      "15                CA           201707.0  NaN   KIA         PA    GY   \n",
      "16                CA           201808.0  NaN  FORD         PA    BK   \n",
      "17                CA           201701.0  NaN  HOND         PA    SL   \n",
      "18                CA                NaN  NaN  LEXS         PA    WT   \n",
      "19                CA           201610.0  NaN  TOYT         PA    SL   \n",
      "20                CA           201709.0  NaN  NISS         PA    WT   \n",
      "21                CA           201608.0  NaN  MERZ         PA    BL   \n",
      "22                CA               11.0  NaN  TOYT         PA    BK   \n",
      "23                CA           201707.0  NaN  TOYT         PA    SL   \n",
      "24                CA           201610.0  NaN  SUZI         PA    BK   \n",
      "25                CA           201703.0  NaN  TOYT         PA    SL   \n",
      "26                CA           201607.0  NaN  MNNI         PA    BK   \n",
      "27                CA           201510.0  NaN  CHEV         PA    GN   \n",
      "28                CA           201704.0  NaN  NISS         PA    WT   \n",
      "29                OH           201905.0  NaN  PONT         PA    BL   \n",
      "...              ...                ...  ...   ...        ...   ...   \n",
      "99970             CA           201607.0  NaN  MERZ         PA    BK   \n",
      "99971             CA           201511.0  NaN  TOYO         TR    WH   \n",
      "99972             CA           201807.0  NaN  NISS         PA    GY   \n",
      "99973             CA           201603.0  NaN  CHEV         PA    GO   \n",
      "99974             CA                8.0  NaN  MAZD         PA    WT   \n",
      "99975             FL           202006.0  NaN  PORS         PA    WT   \n",
      "99976             CA           201909.0  NaN  TOYT         PA    GY   \n",
      "99977             CA           201603.0  NaN  CADI         PA    GY   \n",
      "99978             NC           201711.0  NaN  DODG         PA    BK   \n",
      "99979             CA           201712.0  NaN  SUBA         PA    TU   \n",
      "99980             CA           201711.0  NaN  INFI         PA    BL   \n",
      "99981             CA           201910.0  NaN  TOYT         PA    BL   \n",
      "99982             CA                2.0  NaN  CADI         PA    BK   \n",
      "99983             CA                NaN  NaN  AUDI         PA    GY   \n",
      "99984             CA           201709.0  NaN  MNNI         PA    RD   \n",
      "99985             CA           201801.0  NaN  HOND         PA    GY   \n",
      "99986             CA           201902.0  NaN  CHEV         PA    WT   \n",
      "99987             CA           201510.0  NaN  HOND         PA    GY   \n",
      "99988             NM           201508.0  NaN  HYUN         PA    WT   \n",
      "99989             CA           201610.0  NaN  CHEV         PA    RD   \n",
      "99990             CA           201702.0  NaN  JEEP         PA    BK   \n",
      "99991             CA           201807.0  NaN  ACUR         PA    WT   \n",
      "99992             CA                NaN  NaN  CADI         PA    WT   \n",
      "99993             CA           201806.0  NaN  FORD         PA    GY   \n",
      "99994             CA           201803.0  NaN  TOYT         PA    BK   \n",
      "99995             CA           201809.0  NaN  MERZ         PA    SL   \n",
      "99996             CA           201605.0  NaN  TOYT         PA    BK   \n",
      "99997             CA           201703.0  NaN  VOLK         PA    BL   \n",
      "99998             CA           201807.0  NaN  FORD         PA    GY   \n",
      "99999             CA           201803.0  NaN  MERZ         PA    GY   \n",
      "\n",
      "                          Location  Route  Agency Violation code  \\\n",
      "0                700 HELIOTROPE DR  00491    54.0        88.13B+   \n",
      "1                 960 OXFORD AVE S  00403    54.0       80.56E4+   \n",
      "2                  650 AVENUE 50 N  00611    56.0        80.56E1   \n",
      "3                 5319 LINCOLN AVE  00676    56.0        80.69BS   \n",
      "4               506 LUCERNE BLVD N  00463    54.0        80.69BS   \n",
      "5               4800 FIGUEROA ST S  00547    55.0       80.69AA+   \n",
      "6                 8008 LOYOLA BLVD   139B    51.0         80.58L   \n",
      "7               1242 EDGEMONT ST N  00442    54.0         22500F   \n",
      "8                  1043 LUCILE AVE  00483    54.0        80.69BS   \n",
      "9                  15148 OXNARD ST  00325    53.0         5204A-   \n",
      "10                  7200 SUNSET BL  00481    54.0        88.13B+   \n",
      "11             6411 HOLLYWOOD BLVD  00401    54.0         80.69B   \n",
      "12              3099 RUNYON CYN RD    NaN    36.0           8603   \n",
      "13       431 SOUTH VAN NESS AVENUE  00456    54.0        80.69BS   \n",
      "14     1631 SOUTH CARMELINA AVENUE  00118    51.0        80.69BS   \n",
      "15                  1855 11TH ST W  00645    56.0        80.69BS   \n",
      "16              424 LUCERNE BLVD N  00487    54.0         80.69C   \n",
      "17          251 NORTH BREED STREET  00600    56.0        80.69BS   \n",
      "18        139 NORTH DETROIT STREET  00476    54.0        80.69BS   \n",
      "19                603 NEW DEPOT ST    671    56.0        80.69BS   \n",
      "20                 1029 TREMONT ST  00644    56.0        80.69BS   \n",
      "21            1948 W COLORADO BLVD  00600    56.0         22502A   \n",
      "22              771 SAN PEDRO ST S  00672    56.0         5204A-   \n",
      "23                11900 VENTURA BL  00310    53.0        88.13B+   \n",
      "24                 400 WESTMONT DR  00402    54.0         22500F   \n",
      "25          834 SOUTH GRAND AVENUE  00600    56.0        80.56E1   \n",
      "26          1134 ABBOT KINNEY BLVD  00184    51.0        80.69BS   \n",
      "27                 2455 HOUSTON ST   645A    56.0          80.61   \n",
      "28                   601 HOPE ST S  00657    56.0        88.13B+   \n",
      "29               13119 MOORPARK ST  00367    53.0        80.69BS   \n",
      "...                            ...    ...     ...            ...   \n",
      "99970            1110 OXFORD AVE N  00445    54.0         80.69C   \n",
      "99971           SANDISON ST/GAMBLE  25MQ3     1.0         4000A1   \n",
      "99972               1101 GAYLEY AV  00113    51.0        88.13B+   \n",
      "99973            3984 MEIER STREET  00111    51.0         80.69B   \n",
      "99974        101 S  SYCAMORE AVE S  478R2    54.0        80.69BS   \n",
      "99975             1651 WINONA BLVD  00451    54.0        80.69BS   \n",
      "99976           3184 WILSHIRE BLVD   403B    54.0          80.70   \n",
      "99977                  1200 MALCOM  00188    51.0         80.69C   \n",
      "99978              336 AVENUE 26 W  00600    56.0        80.69BS   \n",
      "99979             7746 HENEFER AVE  00104    51.0        80.73.2   \n",
      "99980      600 SOUTH SPRING STREET  00600    56.0        80.56E1   \n",
      "99981              11330 OTSEGO ST  00356    53.0        80.69BS   \n",
      "99982        125 S  SYCAMORE AVE S  478R2    54.0        80.69BS   \n",
      "99983          2020 PINEHURST RD N  00402    54.0         80.58L   \n",
      "99984             12054 GOSHEN AVE  00174    51.0        80.69BS   \n",
      "99985             601 OLYMPIC BLVD  00600    56.0       80.69AA+   \n",
      "99986              18646 OXNARD ST  00374    53.0        80.56E1   \n",
      "99987           244 SAN PEDRO ST S  00667    56.0         88.03A   \n",
      "99988               1681 12TH PL W  00641    56.0        80.69BS   \n",
      "99989               6682 SELMA AVE  00402    54.0        80.56E1   \n",
      "99990          11100 WEDDINGTON ST  00395    53.0         5204A-   \n",
      "99991           7409 CENTRAL AVE S  00500    55.0       80.69AP+   \n",
      "99992              7300 MELROSE AV  00400    54.0        88.13B+   \n",
      "99993              135 AVENUE 58 S  00611    56.0        80.69BS   \n",
      "99994           1401 ARDMORE AVE S  539BH    55.0       80.69AA+   \n",
      "99995           3437 ARLINGTON AVE    500    55.0       80.69AP+   \n",
      "99996           1627 ISABEL STREET  00610    56.0       80.56E4+   \n",
      "99997               9205 DARBY AVE  00338    53.0        80.69BS   \n",
      "99998             5800 S DEANE AVE  00542    55.0        80.69BS   \n",
      "99999              10718 LAWLER ST  146R1    51.0        80.69BS   \n",
      "\n",
      "                Violation Description  Fine amount      Latitude     Longitude  \n",
      "0                          METER EXP.         63.0  6.472356e+06  1.852934e+06  \n",
      "1                            RED ZONE         93.0  6.468550e+06  1.842109e+06  \n",
      "2                          WHITE ZONE         58.0  6.499079e+06  1.862891e+06  \n",
      "3                NO PARK/STREET CLEAN         73.0  6.500992e+06  1.865864e+06  \n",
      "4                NO PARK/STREET CLEAN         73.0  6.463301e+06  1.851333e+06  \n",
      "5                       NO STOP/STAND         93.0  6.475984e+06  1.822216e+06  \n",
      "6                PREFERENTIAL PARKING         68.0  6.435314e+06  1.810204e+06  \n",
      "7                  PARKED ON SIDEWALK         68.0  6.472017e+06  1.856818e+06  \n",
      "8                NO PARK/STREET CLEAN         73.0  6.476126e+06  1.853636e+06  \n",
      "9                     DISPLAY OF TABS         25.0  9.999900e+04  9.999900e+04  \n",
      "10                         METER EXP.         63.0  6.456594e+06  1.858221e+06  \n",
      "11                         NO PARKING         73.0  6.461859e+06  1.859521e+06  \n",
      "12                    PK IN PROH AREA         68.0  6.454767e+06  1.866093e+06  \n",
      "13               NO PARK/STREET CLEAN         73.0  6.466223e+06  1.846763e+06  \n",
      "14               NO PARK/STREET CLEAN         73.0  6.421309e+06  1.835903e+06  \n",
      "15               NO PARK/STREET CLEAN         73.0  6.477249e+06  1.840453e+06  \n",
      "16             PARKED OVER TIME LIMIT         58.0  6.463301e+06  1.850900e+06  \n",
      "17               NO PARK/STREET CLEAN         73.0  6.498201e+06  1.839358e+06  \n",
      "18               NO PARK/STREET CLEAN         73.0  6.457149e+06  1.849518e+06  \n",
      "19               NO PARK/STREET CLEAN         73.0  6.488631e+06  1.846227e+06  \n",
      "20               NO PARK/STREET CLEAN         73.0  6.501783e+06  1.841895e+06  \n",
      "21                  18 IN. CURB/2 WAY         63.0  6.498069e+06  1.873085e+06  \n",
      "22                    DISPLAY OF TABS         25.0  6.486414e+06  1.836724e+06  \n",
      "23                         METER EXP.         63.0  6.443418e+06  1.874538e+06  \n",
      "24                 PARKED ON SIDEWALK         68.0  6.447634e+06  1.851182e+06  \n",
      "25                         WHITE ZONE         58.0  6.483390e+06  1.838987e+06  \n",
      "26               NO PARK/STREET CLEAN         73.0  6.419348e+06  1.819632e+06  \n",
      "27                   STANDNG IN ALLEY         68.0  6.499896e+06  1.840907e+06  \n",
      "28                         METER EXP.         63.0  6.484015e+06  1.840472e+06  \n",
      "29               NO PARK/STREET CLEAN         73.0  6.434944e+06  1.877364e+06  \n",
      "...                               ...          ...           ...           ...  \n",
      "99970            PARKED OVER TIME LIM         58.0  6.468669e+06  1.855680e+06  \n",
      "99971              NO EVIDENCE OF REG         50.0  9.999900e+04  9.999900e+04  \n",
      "99972                      METER EXP.         63.0  6.426444e+06  1.844588e+06  \n",
      "99973                      NO PARKING         73.0  9.999900e+04  9.999900e+04  \n",
      "99974            NO PARK/STREET CLEAN         73.0  6.457812e+06  1.849336e+06  \n",
      "99975            NO PARK/STREET CLEAN         73.0  6.470189e+06  1.859278e+06  \n",
      "99976  NO STOPPING/ANTI-GRIDLOCK ZONE        163.0  6.473427e+06  1.844998e+06  \n",
      "99977            PARKED OVER TIME LIM         58.0  9.999900e+04  9.999900e+04  \n",
      "99978            NO PARK/STREET CLEAN         73.0  6.495310e+06  1.851763e+06  \n",
      "99979                 EXCEED 72HRS-ST         68.0  6.439304e+06  1.812548e+06  \n",
      "99980                      WHITE ZONE         58.0  6.485641e+06  1.839201e+06  \n",
      "99981            NO PARK/STREET CLEAN         73.0  6.447355e+06  1.881907e+06  \n",
      "99982            NO PARK/STREET CLEAN         73.0  9.999900e+04  9.999900e+04  \n",
      "99983            PREFERENTIAL PARKING         68.0  6.458367e+06  1.861341e+06  \n",
      "99984            NO PARK/STREET CLEAN         73.0  6.420101e+06  1.839358e+06  \n",
      "99985                   NO STOP/STAND         93.0  6.482384e+06  1.838385e+06  \n",
      "99986                      WHITE ZONE         58.0  6.398461e+06  1.888323e+06  \n",
      "99987             OUTSIDE LINES/METER         58.0  6.488382e+06  1.840288e+06  \n",
      "99988            NO PARK/STREET CLEAN         73.0  6.477227e+06  1.839411e+06  \n",
      "99989                      WHITE ZONE         58.0  6.459981e+06  1.858835e+06  \n",
      "99990                 DISPLAY OF TABS         25.0  6.449000e+06  1.883364e+06  \n",
      "99991                NO STOP/STANDING         93.0  6.483927e+06  1.812357e+06  \n",
      "99992                      METER EXP.         63.0  6.456095e+06  1.852964e+06  \n",
      "99993            NO PARK/STREET CLEAN         73.0  6.503528e+06  1.862613e+06  \n",
      "99994                   NO STOP/STAND         93.0  6.470022e+06  1.839373e+06  \n",
      "99995                NO STOP/STANDING         93.0  6.465419e+06  1.831663e+06  \n",
      "99996                        RED ZONE         93.0  6.491904e+06  1.858744e+06  \n",
      "99997            NO PARK/STREET CLEAN         73.0  6.400300e+06  1.909197e+06  \n",
      "99998            NO PARK/STREET CLEAN         73.0  9.999900e+04  9.999900e+04  \n",
      "99999            NO PARK/STREET CLEAN         73.0  6.436675e+06  1.831774e+06  \n",
      "\n",
      "[100000 rows x 19 columns]\n"
     ]
    },
    {
     "name": "stderr",
     "output_type": "stream",
     "text": [
      "C:\\Users\\enlin\\Anaconda3\\lib\\site-packages\\IPython\\core\\interactiveshell.py:3049: DtypeWarning: Columns (0,7) have mixed types. Specify dtype option on import or set low_memory=False.\n",
      "  interactivity=interactivity, compiler=compiler, result=result)\n"
     ]
    }
   ],
   "source": [
    "# reads csv into df\n",
    "cit_df = pd.read_csv(\"100000-rand-parking-citations.csv\")\n",
    "print(cit_df)"
   ]
  },
  {
   "cell_type": "code",
   "execution_count": null,
   "metadata": {},
   "outputs": [],
   "source": []
  },
  {
   "cell_type": "markdown",
   "metadata": {},
   "source": [
    "# Data Analysis & Results"
   ]
  },
  {
   "cell_type": "markdown",
   "metadata": {},
   "source": [
    "Include cells that describe the steps in your data analysis."
   ]
  },
  {
   "cell_type": "code",
   "execution_count": 5,
   "metadata": {},
   "outputs": [],
   "source": [
    "## YOUR CODE HERE\n",
    "## FEEL FREE TO ADD MULTIPLE CELLS PER SECTION"
   ]
  },
  {
   "cell_type": "markdown",
   "metadata": {},
   "source": [
    "# Ethics & Privacy"
   ]
  },
  {
   "cell_type": "markdown",
   "metadata": {},
   "source": [
    "*Fill in your ethics & privacy discussion here*"
   ]
  },
  {
   "cell_type": "markdown",
   "metadata": {},
   "source": [
    "# Conclusion & Discussion"
   ]
  },
  {
   "cell_type": "markdown",
   "metadata": {},
   "source": [
    "*Fill in your discussion information here*"
   ]
  }
 ],
 "metadata": {
  "kernelspec": {
   "display_name": "Python 3",
   "language": "python",
   "name": "python3"
  },
  "language_info": {
   "codemirror_mode": {
    "name": "ipython",
    "version": 3
   },
   "file_extension": ".py",
   "mimetype": "text/x-python",
   "name": "python",
   "nbconvert_exporter": "python",
   "pygments_lexer": "ipython3",
   "version": "3.7.3"
  }
 },
 "nbformat": 4,
 "nbformat_minor": 2
}
