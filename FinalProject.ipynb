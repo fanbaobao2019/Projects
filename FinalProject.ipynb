{
 "cells": [
  {
   "cell_type": "markdown",
   "metadata": {},
   "source": [
    "# COGS 108 - Final Project "
   ]
  },
  {
   "cell_type": "markdown",
   "metadata": {},
   "source": [
    "# Overview"
   ]
  },
  {
   "cell_type": "markdown",
   "metadata": {},
   "source": [
    "*Fill in your overview here*"
   ]
  },
  {
   "cell_type": "markdown",
   "metadata": {},
   "source": [
    "# Names\n",
    "\n",
    "- Karen Rodriguez Pinto\n",
    "- Enlin Wei\n",
    "- Yumi Minami \n",
    "- Kanami Hannah Tanaka"
   ]
  },
  {
   "cell_type": "markdown",
   "metadata": {},
   "source": [
    "# Group Members IDs\n",
    "\n",
    "- A15161856\n",
    "- A12938737\n",
    "- A12669124\n",
    "- A########"
   ]
  },
  {
   "cell_type": "markdown",
   "metadata": {},
   "source": [
    "# Research Question"
   ]
  },
  {
   "cell_type": "markdown",
   "metadata": {},
   "source": [
    "*Fill in your research question here*"
   ]
  },
  {
   "cell_type": "markdown",
   "metadata": {},
   "source": [
    "## Background and Prior Work"
   ]
  },
  {
   "cell_type": "markdown",
   "metadata": {},
   "source": [
    "*Fill in your background and prior work here* \n",
    "\n",
    "References (include links):\n",
    "- 1)\n",
    "- 2)"
   ]
  },
  {
   "cell_type": "markdown",
   "metadata": {},
   "source": [
    "# Hypothesis\n"
   ]
  },
  {
   "cell_type": "markdown",
   "metadata": {},
   "source": [
    "*Fill in your hypotheses here*"
   ]
  },
  {
   "cell_type": "markdown",
   "metadata": {},
   "source": [
    "# Dataset(s)"
   ]
  },
  {
   "cell_type": "markdown",
   "metadata": {},
   "source": [
    "*Fill in your dataset information here*\n",
    "\n",
    "(Copy this information for each dataset)\n",
    "- Dataset Name:\n",
    "- Link to the dataset:\n",
    "- Number of observations:\n",
    "\n",
    "1-2 sentences describing each dataset. \n",
    "\n",
    "If you plan to use multiple datasets, add 1-2 sentences about how you plan to combine these datasets."
   ]
  },
  {
   "cell_type": "markdown",
   "metadata": {},
   "source": [
    "# Setup"
   ]
  },
  {
   "cell_type": "code",
   "execution_count": 1,
   "metadata": {},
   "outputs": [],
   "source": [
    "## YOUR CODE HERE\n",
    "import random as rd\n",
    "import pandas as pd"
   ]
  },
  {
   "cell_type": "markdown",
   "metadata": {},
   "source": [
    "# Data Cleaning"
   ]
  },
  {
   "cell_type": "markdown",
   "metadata": {},
   "source": [
    "Describe your data cleaning steps here."
   ]
  },
  {
   "cell_type": "code",
   "execution_count": 2,
   "metadata": {},
   "outputs": [],
   "source": [
    "## YOUR CODE HERE\n",
    "## FEEL FREE TO ADD MULTIPLE CELLS PER SECTION"
   ]
  },
  {
   "cell_type": "code",
   "execution_count": 3,
   "metadata": {},
   "outputs": [],
   "source": [
    "\"\"\"\"\n",
    "Gets a certain number of lines at random from a string.\n",
    "--INPUTS--\n",
    "    input_string: string from which to extract a random number of lines\n",
    "    num_lines_to_get: number of lines to get at random\n",
    "    already_got: list of lines that are already picked, to prevent picking same line twice\n",
    "--OUTPUTS--\n",
    "    output: output string containing 'num_lines_to_get' number of random lines\n",
    "\"\"\"\n",
    "def get_rand_lines(input_string,num_lines_to_get,already_got=[]):\n",
    "    # sets the according lines in input_string to None\n",
    "    for none_line in already_got:\n",
    "        input_string[none_line] = None\n",
    "    # output to save random lines\n",
    "    output = \"\"\n",
    "    # max lines in input string\n",
    "    MAX_LINES = len(input_string)\n",
    "    # number of lines that have been picked\n",
    "    ith_time = 0\n",
    "    # while we haven't gotten desired number of lines\n",
    "    while ith_time < num_lines_to_get:\n",
    "        # picks random line number in range of 0 to MAX_LINES-1\n",
    "        ith_line = rd.randint(0, MAX_LINES-1)\n",
    "        # checks if random line has already been set to None (has already been picked)\n",
    "        if input_string[ith_line] is not None:\n",
    "            # adds randomly picked line to output\n",
    "            output = output + input_string[ith_line]\n",
    "            # sets that random line to None so it doesn't get picked again\n",
    "            input_string[ith_line] = None\n",
    "            # increments ith_time\n",
    "            ith_time = ith_time + 1\n",
    "    return output"
   ]
  },
  {
   "cell_type": "code",
   "execution_count": 4,
   "metadata": {},
   "outputs": [],
   "source": [
    "# opens csv file and reads lines in it into list of strings\n",
    "cit_lines = open(\"parking-citations.csv\", 'r').readlines()\n",
    "header = cit_lines[0]\n",
    "# uses get_rand_lines method to extract 500000 lines from it\n",
    "# aleady_got=[0] because we have to get the header\n",
    "cit_lines_500000_rand = get_rand_lines(cit_lines, 500000, already_got=[0])\n",
    "# writes in the header line, and the 500000 random lines\n",
    "outfile = open(\"500000-rand-parking-citations.csv\", 'w').write(header + cit_lines_500000_rand)"
   ]
  },
  {
   "cell_type": "code",
   "execution_count": 5,
   "metadata": {},
   "outputs": [
    {
     "name": "stderr",
     "output_type": "stream",
     "text": [
      "C:\\Users\\enlin\\Anaconda3\\lib\\site-packages\\IPython\\core\\interactiveshell.py:3049: DtypeWarning: Columns (0) have mixed types. Specify dtype option on import or set low_memory=False.\n",
      "  interactivity=interactivity, compiler=compiler, result=result)\n"
     ]
    },
    {
     "name": "stdout",
     "output_type": "stream",
     "text": [
      "       Ticket number           Issue Date  Issue time Meter Id  Marked Time  \\\n",
      "0         4349265874  2019-03-04T00:00:00       918.0        6          NaN   \n",
      "1         4251333741  2015-02-12T00:00:00       658.0      NaN          NaN   \n",
      "2         4332295483  2018-05-23T00:00:00       132.0      210          NaN   \n",
      "3         1110904874  2016-05-05T00:00:00       822.0      NaN          NaN   \n",
      "4         4283542454  2016-05-13T00:00:00      1212.0      NaN          NaN   \n",
      "5         4275797046  2016-02-01T00:00:00      1050.0   CB2190          NaN   \n",
      "6         4335945320  2018-07-12T00:00:00      1306.0    NH123          NaN   \n",
      "7         4255740985  2015-03-24T00:00:00      1312.0    CB494          NaN   \n",
      "8         4342588165  2018-10-23T00:00:00       935.0    WV446          NaN   \n",
      "9         4292572756  2016-09-10T00:00:00      2027.0    WV157          NaN   \n",
      "10        4346763400  2019-01-18T00:00:00       805.0      NaN          NaN   \n",
      "11        4297155052  2016-11-10T00:00:00      1222.0      NaN          NaN   \n",
      "12        4297644816  2016-12-05T00:00:00       154.0      NaN          NaN   \n",
      "13        4350591416  2019-03-08T00:00:00      1028.0      NaN          NaN   \n",
      "14        4298730214  2016-12-02T00:00:00       907.0      NaN          NaN   \n",
      "15        4278561965  2016-03-22T00:00:00      1038.0      NaN          NaN   \n",
      "16        4273069010  2015-12-29T00:00:00      1015.0      NaN          NaN   \n",
      "17        1096957853  2015-02-20T00:00:00       850.0      NaN          NaN   \n",
      "18        4323479705  2018-01-06T00:00:00       831.0    WS797          NaN   \n",
      "19        4262114091  2015-06-25T00:00:00      1101.0      NaN          NaN   \n",
      "20        4351310390  2019-03-28T00:00:00       114.0      NaN          NaN   \n",
      "21        4312451570  2017-06-30T00:00:00       813.0      NaN          NaN   \n",
      "22        4293172800  2016-09-16T00:00:00      1133.0      NaN          NaN   \n",
      "23        4335106285  2018-06-28T00:00:00      1059.0      NaN          NaN   \n",
      "24        4348285432  2019-03-18T00:00:00      1026.0      NaN          NaN   \n",
      "25        4319372875  2017-11-11T00:00:00        50.0      NaN          NaN   \n",
      "26        1105649020  2015-01-16T00:00:00      1330.0      NaN          NaN   \n",
      "27        4315009230  2017-08-26T00:00:00      1953.0     HO45          NaN   \n",
      "28        4296329516  2016-11-07T00:00:00      1314.0      NaN       1050.0   \n",
      "29        4263830266  2015-07-29T00:00:00       630.0      NaN          NaN   \n",
      "...              ...                  ...         ...      ...          ...   \n",
      "499970    4252132371  2015-01-28T00:00:00      1324.0      NaN          NaN   \n",
      "499971    4299447821  2016-12-16T00:00:00       957.0      NaN          NaN   \n",
      "499972    4253997366  2015-03-02T00:00:00      1005.0    OS850          NaN   \n",
      "499973    4274852481  2016-01-12T00:00:00      1859.0    LT296          NaN   \n",
      "499974    4316447612  2017-09-14T00:00:00       858.0      NaN          NaN   \n",
      "499975    4321610053  2017-12-04T00:00:00      1545.0    BW138          NaN   \n",
      "499976    4328143396  2018-03-16T00:00:00      1205.0      NaN          NaN   \n",
      "499977    4351354814  2019-03-21T00:00:00      1029.0      NaN          NaN   \n",
      "499978    1116042325  2018-01-08T00:00:00       840.0      NaN          NaN   \n",
      "499979    4321791972  2017-12-28T00:00:00       845.0      NaN          NaN   \n",
      "499980    4315531883  2017-10-06T00:00:00       504.0      NaN          NaN   \n",
      "499981    4259228352  2015-06-10T00:00:00      1518.0  SS26520          NaN   \n",
      "499982    4272807626  2015-12-17T00:00:00      1746.0      YO4          NaN   \n",
      "499983    4259120014  2015-05-18T00:00:00      1506.0    HO580          NaN   \n",
      "499984    4317282664  2017-09-20T00:00:00      1235.0      NaN          NaN   \n",
      "499985    4298838725  2016-12-10T00:00:00       206.0      NaN          NaN   \n",
      "499986    4346493911  2019-01-22T00:00:00      1540.0    BF314          NaN   \n",
      "499987    4307123181  2017-04-26T00:00:00       101.0      NaN          NaN   \n",
      "499988    4346563701  2019-01-15T00:00:00       157.0      NaN          NaN   \n",
      "499989    4301295261  2017-01-18T00:00:00      1441.0      150          NaN   \n",
      "499990    4264272176  2015-07-29T00:00:00      1844.0      NaN          NaN   \n",
      "499991    4343868281  2018-11-26T00:00:00      1406.0      NaN          NaN   \n",
      "499992    4334248855  2018-06-12T00:00:00      1108.0      NaN          NaN   \n",
      "499993    4297956375  2016-11-29T00:00:00       925.0    WS704          NaN   \n",
      "499994    4313026491  2017-07-19T00:00:00       816.0      NaN          NaN   \n",
      "499995    4326253153  2018-02-08T00:00:00       818.0      NaN          NaN   \n",
      "499996    4329542173  2018-03-20T00:00:00        54.0       64          NaN   \n",
      "499997    4250741051  2015-01-12T00:00:00      1120.0      NaN          NaN   \n",
      "499998    4295388576  2016-10-20T00:00:00       806.0      NaN          NaN   \n",
      "499999    4263455011  2015-08-04T00:00:00      2202.0       64          NaN   \n",
      "\n",
      "       RP State Plate  Plate Expiry Date  VIN  Make Body Style Color  \\\n",
      "0                  CA           201907.0  NaN  VOLK         PA    GY   \n",
      "1                  CA                NaN  NaN  HOND         PA    SL   \n",
      "2                  CA                7.0  NaN  HOND         PA    WT   \n",
      "3                  CA           201611.0  NaN  HOND         PA    WH   \n",
      "4                  CA           201703.0  NaN  CHEV         PA    GY   \n",
      "5                  CA           201601.0  NaN  CHEV         PA    SL   \n",
      "6                  CA           201902.0  NaN  SUBA         PA    WT   \n",
      "7                  CA           201508.0  NaN  ACUR         PA    BK   \n",
      "8                  OH                NaN  NaN  ACUR         PA    WT   \n",
      "9                  CA           201707.0  NaN  MAZD         PA    SL   \n",
      "10                 CA           201904.0  NaN  LINC         PU    BK   \n",
      "11                 CA           201707.0  NaN  TOYT         PA    SL   \n",
      "12                 CA           201608.0  NaN  JEEP         PA    GO   \n",
      "13                 CA           201904.0  NaN  TOYT         PA    GO   \n",
      "14                 CA           201702.0  NaN  TOYT         PA    BK   \n",
      "15                 CA           201601.0  NaN  NISS         PA    BK   \n",
      "16                 CA           201605.0  NaN  HYUN         PA    BL   \n",
      "17                 CA           201408.0  NaN  TOYO         PA    BL   \n",
      "18                 CA           201809.0  NaN   KIA         PA    WT   \n",
      "19                 CA                1.0  NaN  FORD         PA    WT   \n",
      "20                 CA           201909.0  NaN  TOYT         PA    GY   \n",
      "21                 CA           201804.0  NaN  JEEP         PA    BK   \n",
      "22                 CA           201702.0  NaN  HOND         PA    SL   \n",
      "23                 CA           201902.0  NaN  HOND         PA    SL   \n",
      "24                 CA           201805.0  NaN  CHEV         PA    BL   \n",
      "25                 CA           201808.0  NaN  VOLK         PA    WT   \n",
      "26                 CA           201409.0  NaN  HOND         PA    GY   \n",
      "27                 CA           201801.0  NaN  HOND         PA    BK   \n",
      "28                 CA                NaN  NaN  NISS         PA    SL   \n",
      "29                 CA           201603.0  NaN  FORD         PA    BL   \n",
      "...               ...                ...  ...   ...        ...   ...   \n",
      "499970             CA           201501.0  NaN  TOYT         PA    BG   \n",
      "499971             CA                8.0  NaN  DODG         CM    WT   \n",
      "499972             CA           201508.0  NaN  HOND         PA    GY   \n",
      "499973             CA           201601.0  NaN  AUDI         PA    GY   \n",
      "499974             CA           201805.0  NaN   BMW         PA    WT   \n",
      "499975             CA           201901.0  NaN   BMW         PA    SL   \n",
      "499976             CA           201810.0  NaN  HYUN         PA    MR   \n",
      "499977             CA           202003.0  NaN   BMW         PA    GY   \n",
      "499978             CA                NaN  NaN  FORD         PA    BL   \n",
      "499979             CA                2.0  NaN  FORD         PU    BL   \n",
      "499980             CA           201712.0  NaN  HOND         PA    BL   \n",
      "499981             CA           201604.0  NaN   GMC         PA    WT   \n",
      "499982             CA           201603.0  NaN  TOYT         PA    BK   \n",
      "499983             CA           201603.0  NaN  HOND         PA    BK   \n",
      "499984             CA           201806.0  NaN  HOND         PA    SL   \n",
      "499985             CA           201706.0  NaN   BMW         PA    BK   \n",
      "499986             CA           201910.0  NaN  CHEV         PA    GY   \n",
      "499987             CA           201710.0  NaN  MERZ         PA    BK   \n",
      "499988             CA           201901.0  NaN  TOYT         PA    GO   \n",
      "499989             CA           201710.0  NaN  HOND         PA    SL   \n",
      "499990             CA           201508.0  NaN  TOYT         PA    SL   \n",
      "499991             CA           201901.0  NaN  CADI         TK    BK   \n",
      "499992             CA           201901.0  NaN  MAZD         PA    GY   \n",
      "499993             CA           201701.0  NaN  FORD         PA    BK   \n",
      "499994             CA           201710.0  NaN  CHEV         PA    GN   \n",
      "499995             CA           201806.0  NaN  HOND         PA    BK   \n",
      "499996             CA           201806.0  NaN  JEEP         PA    BL   \n",
      "499997             CA           201505.0  NaN  MERZ         PA    BK   \n",
      "499998             CA                3.0  NaN  CHEV         VN    GY   \n",
      "499999             CA           201606.0  NaN  VOLK         PA    SL   \n",
      "\n",
      "                                   Location  Route  Agency Violation code  \\\n",
      "0                          10354 ASHTON AVE  00155    51.0         80.58L   \n",
      "1                             5601 APPLE ST  00300    51.0         22500H   \n",
      "2                       3945 MICHAEL AVENUE   501R    51.0         80.58L   \n",
      "3                         3638 S JASMINE AV  00146    51.0         8069BS   \n",
      "4                             161 35TH ST E  00500    55.0        80.69BS   \n",
      "5                       733 SAN JULIAN ST S  00667    56.0        88.13B+   \n",
      "6                         11001 MAGNOLIA BL  00356    53.0        88.13B+   \n",
      "7                          1432 SANTEE ST S  00684    56.0        88.13B+   \n",
      "8                          1001 TIVERTON AV  00187    51.0        88.13B+   \n",
      "9                            901 BROXTON AV  00301    51.0        88.13B+   \n",
      "10                      14141 VAN NUYS BLVD  00331    53.0        80.69BS   \n",
      "11                          1600 THAYER AVE  00154    51.0        80.69BS   \n",
      "12      7825 SAN FERNANDO ROAD NORTHEAST RD  00316    53.0        80.69A+   \n",
      "13                           2945 DENBY AVE  00674    56.0         80.69B   \n",
      "14                         1616 FEDERAL AVE  00152    51.0        80.69BS   \n",
      "15                1317 NORTH BRONSON AVENUE  00445    54.0        80.69BS   \n",
      "16                             316 GOWER ST  00451    54.0        80.69BS   \n",
      "17                          GUTHRIE/STEARNS  00702     1.0         4000A1   \n",
      "18                          1500 PONTIUS AV   303W    51.0        88.13B+   \n",
      "19                           450 S ARNAZ DR  00475    54.0           5200   \n",
      "20                    1320 BONNIE BRAE ST S  00600    56.0        80.56E1   \n",
      "21                    5011 WILLOW CREST AVE  00353    53.0        80.69BS   \n",
      "22                            1601 212TH ST  00500    55.0        80.69BS   \n",
      "23                         8603 WYSTONE AVE  00335    53.0        80.69BS   \n",
      "24                         8550 NORWICH AVE  00327    53.0         5204A-   \n",
      "25                            460 WALL ST S  00600    56.0        80.69A+   \n",
      "26                      ENADIA WY/NATICK AV  RD905     1.0         4000A1   \n",
      "27                     1638 LAS PALMAS AV N  00402    54.0        88.13B+   \n",
      "28                      920 EAST 2ND STREET    6T4    56.0         80.69C   \n",
      "29                       12102 IDAHO AVENUE  00113    51.0           5200   \n",
      "...                                     ...    ...     ...            ...   \n",
      "499970                 4020 BUCKINGHAM ROAD  00531    55.0        80.69BS   \n",
      "499971                     1200 SANTEE ST S  00677    56.0       80.56E4+   \n",
      "499972                   11500 TENNESSEE AV  00185    51.0        88.13B+   \n",
      "499973                         401 3RD ST E  00662    56.0        88.13B+   \n",
      "499974                    1050 HARRISON AVE  00137    51.0        80.69BS   \n",
      "499975                11700 BARRINGTON CT W  00402    51.0        88.13B+   \n",
      "499976                     1245 INGRAHAM ST  00600    56.0        80.69BS   \n",
      "499977                       5233 AGNES AVE  00353    53.0        80.69BS   \n",
      "499978                     1560 W COLTON ST   645B    56.0         8069BS   \n",
      "499979                      13250 VAUGHN ST  00342    53.0         80.69B   \n",
      "499980                            100 AVE54    60B    56.0        80.69BS   \n",
      "499981                      1530 BUTLER AVE  00111    51.0        88.63B+   \n",
      "499982                         5101 YORK BL  00672    56.0        88.13B+   \n",
      "499983                   1715 N CAHUENGA BL  00484    54.0        88.13B+   \n",
      "499984                       517 STATE ST N  00634    56.0        80.69BS   \n",
      "499985           218 SOUTH VENICE BOULEVARD  00501    51.0        80.69A+   \n",
      "499986                      7901 MELROSE AV  00485    54.0        88.13B+   \n",
      "499987            1649 N SCHRADER BOULEVARD  00402    54.0           5200   \n",
      "499988               700 APROX MAGNOLIA AVE  00402    54.0       80.56E4+   \n",
      "499989                    863 RADCLIFFE AVE  00406    51.0         80.58L   \n",
      "499990        970 SAINT ANDREWS PLACE NORTH  00403    54.0       80.56E4+   \n",
      "499991                    136 LA BREA AVE S  00495    54.0        80.56E2   \n",
      "499992                      4280 CLINTON ST  00400    54.0         22502A   \n",
      "499993                10701 SANTA MONICA BL  00183    51.0        88.13B+   \n",
      "499994                       2405 48TH ST W  00541    55.0        80.69BS   \n",
      "499995                 10711 AMESTOY AVENUE  00334    53.0        80.69BS   \n",
      "499996                       1400 SEWARD ST   402A    54.0         80.58L   \n",
      "499997                 11658 SAN VICENTE BL  00108    51.0         22502E   \n",
      "499998                    3750 HARRIMAN AVE  00631    56.0        80.69BS   \n",
      "499999                    6759 SELMA AVENUE  00402    54.0         80.58L   \n",
      "\n",
      "         Violation Description  Fine amount      Latitude     Longitude  \n",
      "0         PREFERENTIAL PARKING         68.0  6.432394e+06  1.846854e+06  \n",
      "1               DOUBLE PARKING         68.0  6.451332e+06  1.835157e+06  \n",
      "2         PREFERENTIAL PARKING         68.0  6.427855e+06  1.821031e+06  \n",
      "3         NO PARK/STREET CLEAN         73.0  9.999900e+04  9.999900e+04  \n",
      "4         NO PARK/STREET CLEAN         73.0  6.478300e+06  1.829066e+06  \n",
      "5                   METER EXP.         63.0  6.486480e+06  1.837257e+06  \n",
      "6                   METER EXP.         63.0  6.449668e+06  1.882600e+06  \n",
      "7                   METER EXP.         63.0  6.483090e+06  1.834783e+06  \n",
      "8                   METER EXP.         63.0  6.427545e+06  1.845275e+06  \n",
      "9                   METER EXP.         63.0  6.426269e+06  1.845848e+06  \n",
      "10        NO PARK/STREET CLEAN         73.0  6.428198e+06  1.914313e+06  \n",
      "11        NO PARK/STREET CLEAN         73.0  6.431970e+06  1.843862e+06  \n",
      "12         STOP/STAND PROHIBIT         93.0  9.999900e+04  9.999900e+04  \n",
      "13                  NO PARKING         73.0  6.487898e+06  1.860316e+06  \n",
      "14        NO PARK/STREET CLEAN         73.0  6.424262e+06  1.838789e+06  \n",
      "15        NO PARK/STREET CLEAN         73.0  6.465408e+06  1.856976e+06  \n",
      "16        NO PARK/STREET CLEAN         73.0  6.463955e+06  1.850351e+06  \n",
      "17          NO EVIDENCE OF REG         50.0  9.999900e+04  9.999900e+04  \n",
      "18                  METER EXP.         63.0  6.426203e+06  1.840902e+06  \n",
      "19           DISPLAY OF PLATES         25.0  9.999900e+04  9.999900e+04  \n",
      "20                  WHITE ZONE         58.0  6.476738e+06  1.839000e+06  \n",
      "21        NO PARK/STREET CLEAN         73.0  6.451950e+06  1.881341e+06  \n",
      "22        NO PARK/STREET CLEAN         73.0  9.999900e+04  9.999900e+04  \n",
      "23        NO PARK/STREET CLEAN         73.0  6.396307e+06  1.905235e+06  \n",
      "24             DISPLAY OF TABS         25.0  6.422543e+06  1.904686e+06  \n",
      "25         STOP/STAND PROHIBIT         93.0  6.487323e+06  1.838960e+06  \n",
      "26          NO EVIDENCE OF REG         50.0  9.999900e+04  9.999900e+04  \n",
      "27                  METER EXP.         63.0  6.459909e+06  1.859098e+06  \n",
      "28      PARKED OVER TIME LIMIT         58.0  6.490632e+06  1.839629e+06  \n",
      "29           DISPLAY OF PLATES         25.0  9.999900e+04  9.999900e+04  \n",
      "...                        ...          ...           ...           ...  \n",
      "499970    NO PARK/STREET CLEAN         73.0  6.457914e+06  1.827643e+06  \n",
      "499971                RED ZONE         93.0  6.483703e+06  1.835688e+06  \n",
      "499972              METER EXP.         63.0  6.427510e+06  1.835417e+06  \n",
      "499973              METER EXP.         63.0  6.486214e+06  1.841275e+06  \n",
      "499974    NO PARK/STREET CLEAN         73.0  6.425011e+06  1.818894e+06  \n",
      "499975              METER EXP.         63.0  9.999900e+04  9.999900e+04  \n",
      "499976    NO PARK/STREET CLEAN         73.0  6.481049e+06  1.841635e+06  \n",
      "499977    NO PARK/STREET CLEAN         73.0  6.442065e+06  1.882832e+06  \n",
      "499978    NO PARK/STREET CLEAN         73.0  6.482270e+06  1.845911e+06  \n",
      "499979              NO PARKING         73.0  6.434253e+06  1.925330e+06  \n",
      "499980    NO PARK/STREET CLEAN         73.0  9.999900e+04  9.999900e+04  \n",
      "499981    OFF STR/OVERTIME/MTR         58.0  6.424562e+06  1.839543e+06  \n",
      "499982              METER EXP.         63.0  6.499694e+06  1.866505e+06  \n",
      "499983              METER EXP.         63.0  9.999900e+04  9.999900e+04  \n",
      "499984    NO PARK/STREET CLEAN         73.0  6.496528e+06  1.840735e+06  \n",
      "499985     STOP/STAND PROHIBIT         93.0  6.419577e+06  1.817270e+06  \n",
      "499986              METER EXP.         63.0  6.452231e+06  1.853079e+06  \n",
      "499987       DISPLAY OF PLATES         25.0  6.461015e+06  1.859179e+06  \n",
      "499988                RED ZONE         93.0  9.999900e+04  9.999900e+04  \n",
      "499989    PREFERENTIAL PARKING         68.0  6.401298e+06  1.839812e+06  \n",
      "499990                RED ZONE         93.0  9.999900e+04  9.999900e+04  \n",
      "499991             YELLOW ZONE         58.0  6.457482e+06  1.848998e+06  \n",
      "499992       18 IN. CURB/2 WAY         63.0  6.472000e+06  1.852083e+06  \n",
      "499993              METER EXP.         63.0  6.430955e+06  1.841776e+06  \n",
      "499994    NO PARK/STREET CLEAN         73.0  6.464896e+06  1.822553e+06  \n",
      "499995    NO PARK/STREET CLEAN         73.0  6.408591e+06  1.919173e+06  \n",
      "499996    PREFERENTIAL PARKING         68.0  6.460789e+06  1.857547e+06  \n",
      "499997       18 IN. CURB/1 WAY         63.0  6.421158e+06  1.842290e+06  \n",
      "499998    NO PARK/STREET CLEAN         73.0  6.506656e+06  1.855138e+06  \n",
      "499999    PREFERENTIAL PARKING         68.0  6.459439e+06  1.858837e+06  \n",
      "\n",
      "[500000 rows x 19 columns]\n"
     ]
    }
   ],
   "source": [
    "# reads csv into df\n",
    "cit_df = pd.read_csv(\"500000-rand-parking-citations.csv\")\n",
    "print(cit_df)"
   ]
  },
  {
   "cell_type": "code",
   "execution_count": null,
   "metadata": {},
   "outputs": [],
   "source": []
  },
  {
   "cell_type": "markdown",
   "metadata": {},
   "source": [
    "# Data Analysis & Results"
   ]
  },
  {
   "cell_type": "markdown",
   "metadata": {},
   "source": [
    "Include cells that describe the steps in your data analysis."
   ]
  },
  {
   "cell_type": "code",
   "execution_count": 5,
   "metadata": {},
   "outputs": [],
   "source": [
    "## YOUR CODE HERE\n",
    "## FEEL FREE TO ADD MULTIPLE CELLS PER SECTION"
   ]
  },
  {
   "cell_type": "markdown",
   "metadata": {},
   "source": [
    "# Ethics & Privacy"
   ]
  },
  {
   "cell_type": "markdown",
   "metadata": {},
   "source": [
    "*Fill in your ethics & privacy discussion here*"
   ]
  },
  {
   "cell_type": "markdown",
   "metadata": {},
   "source": [
    "# Conclusion & Discussion"
   ]
  },
  {
   "cell_type": "markdown",
   "metadata": {},
   "source": [
    "*Fill in your discussion information here*"
   ]
  }
 ],
 "metadata": {
  "kernelspec": {
   "display_name": "Python 3",
   "language": "python",
   "name": "python3"
  },
  "language_info": {
   "codemirror_mode": {
    "name": "ipython",
    "version": 3
   },
   "file_extension": ".py",
   "mimetype": "text/x-python",
   "name": "python",
   "nbconvert_exporter": "python",
   "pygments_lexer": "ipython3",
   "version": "3.7.3"
  }
 },
 "nbformat": 4,
 "nbformat_minor": 2
}
