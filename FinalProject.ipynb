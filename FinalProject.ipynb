{
 "cells": [
  {
   "cell_type": "markdown",
   "metadata": {},
   "source": [
    "# COGS 108 - Final Project "
   ]
  },
  {
   "cell_type": "markdown",
   "metadata": {},
   "source": [
    "# Overview"
   ]
  },
  {
   "cell_type": "markdown",
   "metadata": {},
   "source": [
    "*Fill in your overview here*"
   ]
  },
  {
   "cell_type": "markdown",
   "metadata": {},
   "source": [
    "# Names\n",
    "\n",
    "- Karen Rodriguez Pinto\n",
    "- Enlin Wei\n",
    "- Yumi Minami \n",
    "- Kanami Hannah Tanaka"
   ]
  },
  {
   "cell_type": "markdown",
   "metadata": {},
   "source": [
    "# Group Members IDs\n",
    "\n",
    "- A15161856\n",
    "- A12938737\n",
    "- A12669124\n",
    "- A########"
   ]
  },
  {
   "cell_type": "markdown",
   "metadata": {},
   "source": [
    "# Research Question"
   ]
  },
  {
   "cell_type": "markdown",
   "metadata": {},
   "source": [
    "*Fill in your research question here*"
   ]
  },
  {
   "cell_type": "markdown",
   "metadata": {},
   "source": [
    "## Background and Prior Work"
   ]
  },
  {
   "cell_type": "markdown",
   "metadata": {},
   "source": [
    "*Fill in your background and prior work here* \n",
    "\n",
    "References (include links):\n",
    "- 1)\n",
    "- 2)"
   ]
  },
  {
   "cell_type": "markdown",
   "metadata": {},
   "source": [
    "# Hypothesis\n"
   ]
  },
  {
   "cell_type": "markdown",
   "metadata": {},
   "source": [
    "*Fill in your hypotheses here*"
   ]
  },
  {
   "cell_type": "markdown",
   "metadata": {},
   "source": [
    "# Dataset(s)"
   ]
  },
  {
   "cell_type": "markdown",
   "metadata": {},
   "source": [
    "*Fill in your dataset information here*\n",
    "\n",
    "(Copy this information for each dataset)\n",
    "- Dataset Name:\n",
    "- Link to the dataset:\n",
    "- Number of observations:\n",
    "\n",
    "1-2 sentences describing each dataset. \n",
    "\n",
    "If you plan to use multiple datasets, add 1-2 sentences about how you plan to combine these datasets."
   ]
  },
  {
   "cell_type": "markdown",
   "metadata": {},
   "source": [
    "# Setup"
   ]
  },
  {
   "cell_type": "code",
   "execution_count": 1,
   "metadata": {},
   "outputs": [],
   "source": [
    "## YOUR CODE HERE\n",
    "import random as rd\n",
    "import pandas as pd"
   ]
  },
  {
   "cell_type": "markdown",
   "metadata": {},
   "source": [
    "# Data Cleaning"
   ]
  },
  {
   "cell_type": "markdown",
   "metadata": {},
   "source": [
    "Describe your data cleaning steps here."
   ]
  },
  {
   "cell_type": "code",
   "execution_count": 2,
   "metadata": {},
   "outputs": [],
   "source": [
    "## YOUR CODE HERE\n",
    "## FEEL FREE TO ADD MULTIPLE CELLS PER SECTION"
   ]
  },
  {
   "cell_type": "code",
   "execution_count": 3,
   "metadata": {},
   "outputs": [],
   "source": [
    "\"\"\"\"\n",
    "Gets a certain number of lines at random from a string.\n",
    "--INPUTS--\n",
    "    input_string: string from which to extract a random number of lines\n",
    "    num_lines_to_get: number of lines to get at random\n",
    "    already_got: list of lines that are already picked, to prevent picking same line twice\n",
    "--OUTPUTS--\n",
    "    output: output string containing 'num_lines_to_get' number of random lines\n",
    "\"\"\"\n",
    "def get_rand_lines(input_string,num_lines_to_get,already_got=[]):\n",
    "    # output to save random lines\n",
    "    output = \"\"\n",
    "    # max lines in input string\n",
    "    MAX_LINES = len(input_string)\n",
    "    # number of lines that have been picked\n",
    "    ith_time = 0\n",
    "    # while we haven't gotten desired number of lines\n",
    "    while ith_time < num_lines_to_get:\n",
    "        # picks random line number in range of 0 to MAX_LINES-1\n",
    "        ith_line = rd.randint(0, MAX_LINES-1)\n",
    "        # checks if random line number has already been picked\n",
    "        if ith_line not in already_got:\n",
    "            # adds randomly picked line to output\n",
    "            output = output + input_string[ith_line]\n",
    "            # saves that line number to already_got\n",
    "            already_got.append(ith_line)\n",
    "            # increments ith_time\n",
    "            ith_time = ith_time + 1\n",
    "    return output"
   ]
  },
  {
   "cell_type": "code",
   "execution_count": 4,
   "metadata": {},
   "outputs": [],
   "source": [
    "# opens csv file and reads lines in it into list of strings\n",
    "cit_lines = open(\"parking-citations.csv\", 'r').readlines()\n",
    "# uses get_rand_lines method to extract 10000 lines from it\n",
    "# aleady_got=[0] because we have to get the header\n",
    "cit_lines_10000_rand = get_rand_lines(cit_lines, 10000, already_got=[0])\n",
    "# writes in the headers (line 0 in 'cit_lines'), and the 10000 random lines\n",
    "outfile = open(\"10000-rand-parking-citations.csv\", 'w').write(cit_lines[0] + cit_lines_10000_rand)"
   ]
  },
  {
   "cell_type": "code",
   "execution_count": 5,
   "metadata": {},
   "outputs": [
    {
     "name": "stdout",
     "output_type": "stream",
     "text": [
      "      Ticket number           Issue Date  Issue time Meter Id  Marked Time  \\\n",
      "0        4269770352  2015-10-18T00:00:00       423.0      NaN          NaN   \n",
      "1        4309183535  2017-06-08T00:00:00      1137.0      NaN          NaN   \n",
      "2        4267825343  2015-10-19T00:00:00      1846.0    BF242          NaN   \n",
      "3        1115829540  2016-10-26T00:00:00       735.0      NaN          NaN   \n",
      "4        4329728756  2018-04-04T00:00:00       448.0      NaN          NaN   \n",
      "5        4274197550  2016-01-13T00:00:00      1243.0    CB502          NaN   \n",
      "6        4280681856  2016-04-11T00:00:00      1612.0    LM563          NaN   \n",
      "7        4295909940  2016-11-13T00:00:00       843.0      NaN          NaN   \n",
      "8        4350992505  2019-03-19T00:00:00      2154.0      NaN          NaN   \n",
      "9        4272661584  2015-12-18T00:00:00      1822.0      NaN          NaN   \n",
      "10       4270913382  2015-11-09T00:00:00       315.0      NaN          NaN   \n",
      "11       4283394695  2016-05-19T00:00:00      1822.0       26          NaN   \n",
      "12       4310492196  2017-06-07T00:00:00      1311.0       28          NaN   \n",
      "13       4264890840  2015-08-09T00:00:00      1834.0       72          NaN   \n",
      "14       4268641521  2015-09-30T00:00:00      1225.0      NaN          NaN   \n",
      "15       4350850873  2019-04-04T00:00:00      1204.0    PM148          NaN   \n",
      "16       4274751644  2016-01-28T00:00:00      1656.0    CB460          NaN   \n",
      "17       4245956035  2014-11-03T00:00:00      1022.0      NaN          NaN   \n",
      "18       4302726422  2017-02-04T00:00:00      1304.0      NaN          NaN   \n",
      "19       4276625124  2016-02-28T00:00:00       206.0      NaN          NaN   \n",
      "20       1116914584  2017-08-01T00:00:00      1108.0      NaN          NaN   \n",
      "21       4347138880  2019-01-18T00:00:00      1058.0      NaN          NaN   \n",
      "22       4331188212  2018-04-26T00:00:00      1533.0    VH212          NaN   \n",
      "23       4254856583  2015-03-09T00:00:00      1124.0   CB7749          NaN   \n",
      "24       4331238752  2018-05-17T00:00:00      1652.0      NaN          NaN   \n",
      "25       4274732140  2016-01-11T00:00:00       849.0   CC7328          NaN   \n",
      "26       4260441091  2015-06-04T00:00:00      1124.0      NaN          NaN   \n",
      "27       4349049434  2019-02-22T00:00:00      1230.0      NaN          NaN   \n",
      "28       4320257056  2017-11-07T00:00:00      1640.0    MD924          NaN   \n",
      "29       4306782443  2017-04-10T00:00:00      1745.0      NaN          NaN   \n",
      "...             ...                  ...         ...      ...          ...   \n",
      "9970     4283433011  2016-05-26T00:00:00       835.0    WS741          NaN   \n",
      "9971     4277901342  2016-03-04T00:00:00      1322.0      NaN       1100.0   \n",
      "9972     4284232256  2016-05-25T00:00:00       143.0      NaN          NaN   \n",
      "9973     4251736171  2015-01-12T00:00:00      1030.0    SC15A          NaN   \n",
      "9974     4273662024  2015-12-14T00:00:00      1030.0      NaN          NaN   \n",
      "9975     4319345660  2017-10-31T00:00:00      1118.0    WS515          NaN   \n",
      "9976     4340360975  2018-09-18T00:00:00      1303.0      NaN          NaN   \n",
      "9977     4352381095  2019-04-18T00:00:00      1717.0       96          NaN   \n",
      "9978     4282065745  2016-05-04T00:00:00      1425.0      NaN          NaN   \n",
      "9979     4250249975  2015-01-10T00:00:00      1046.0      NaN        835.0   \n",
      "9980     4304941550  2017-03-21T00:00:00        42.0      NaN          NaN   \n",
      "9981     4275418696  2016-02-02T00:00:00      1326.0   PR135A          NaN   \n",
      "9982     4254746580  2015-03-12T00:00:00      1814.0      NaN          NaN   \n",
      "9983     1108712931  2017-10-17T00:00:00      1700.0      NaN          NaN   \n",
      "9984     4341972180  2018-10-23T00:00:00      1041.0     SG57          NaN   \n",
      "9985     4270024430  2015-11-10T00:00:00       829.0      NaN          NaN   \n",
      "9986     4318422883  2017-10-06T00:00:00      1024.0      NaN          NaN   \n",
      "9987     4254763111  2015-03-23T00:00:00      1324.0      NaN          NaN   \n",
      "9988     4297159495  2016-11-14T00:00:00      1638.0    SO733          NaN   \n",
      "9989     4315816901  2017-09-09T00:00:00      1131.0     SC76          NaN   \n",
      "9990     1109493210  2016-05-20T00:00:00      1300.0      NaN          NaN   \n",
      "9991     1113229891  2018-12-25T00:00:00      1622.0      NaN          NaN   \n",
      "9992     4347906850  2019-02-28T00:00:00       909.0      NaN          NaN   \n",
      "9993     4281241510  2016-04-12T00:00:00      1056.0   CB4383          NaN   \n",
      "9994     4267307321  2015-09-16T00:00:00      1710.0      NaN          NaN   \n",
      "9995     4308271903  2017-05-20T00:00:00      1130.0      NaN          NaN   \n",
      "9996     4327100190  2018-02-17T00:00:00      1110.0      NaN        850.0   \n",
      "9997     4311416885  2017-07-08T00:00:00      2211.0       37          NaN   \n",
      "9998     1115268442  2016-11-04T00:00:00      1520.0      NaN          NaN   \n",
      "9999     4337615295  2018-08-24T00:00:00      1258.0      NaN          NaN   \n",
      "\n",
      "     RP State Plate  Plate Expiry Date  VIN  Make Body Style Color  \\\n",
      "0                CA           201609.0  NaN  HOND         PA    SL   \n",
      "1                CA           201801.0  NaN  FORD         PA    WT   \n",
      "2                CA           201609.0  NaN  FIAT         PA    WT   \n",
      "3                CA           201609.0  NaN   NaN         VN   NaN   \n",
      "4                CA           201902.0  NaN  FORD         PA    BK   \n",
      "5                CA           201604.0  NaN  INFI         PA    SL   \n",
      "6                CA                NaN  NaN  VOLV         PA    GY   \n",
      "7                CA           201707.0  NaN  AUDI         PA    GY   \n",
      "8                AZ           202001.0  NaN  TOYT         PA    BK   \n",
      "9                CA           201606.0  NaN  TOYT         PA    SL   \n",
      "10               CA           201608.0  NaN   KIA         PA    SL   \n",
      "11               CA           201703.0  NaN  MERZ         PA    SL   \n",
      "12               CA               12.0  NaN   BMW         PA    RD   \n",
      "13               CA           201511.0  NaN  TOYT         PA    SL   \n",
      "14               CA           201511.0  NaN  HOND         VN    GN   \n",
      "15               CA                NaN  NaN  TSMR         PA    BK   \n",
      "16               CA           201607.0  NaN  TOYT         PA    SL   \n",
      "17               CA           201503.0   NV  JEEP         PA    BK   \n",
      "18               CA           201609.0  NaN   BMW         PA    RD   \n",
      "19               CA           201612.0  NaN  MITS         PA    GN   \n",
      "20               CA           201711.0  NaN  JEEP         PA    GY   \n",
      "21               CA           201903.0  NaN  HOND         PA    WT   \n",
      "22               CA           201812.0  NaN  FORD         PA    BK   \n",
      "23               CA           201504.0  NaN  CHEV         VN    WT   \n",
      "24               CA           201808.0  NaN   BMW         PA    BL   \n",
      "25               CA               10.0  NaN  FORD         PA    BK   \n",
      "26               CA           201612.0  NaN  VOLK         PA    BK   \n",
      "27               CA           201903.0  NaN  SUZI         PA    GY   \n",
      "28               CA           201804.0  NaN  LEXS         PA    SL   \n",
      "29               CA                4.0  NaN  VOLV         PA    WT   \n",
      "...             ...                ...  ...   ...        ...   ...   \n",
      "9970             CA           201606.0  NaN  PORS         PA    WT   \n",
      "9971             CA           201608.0  NaN   KIA         PA    SL   \n",
      "9972             CA           201510.0  NaN  TOYT         PA    SL   \n",
      "9973             CA           201504.0  NaN   BMW         PA    BK   \n",
      "9974             CA           201612.0  NaN  HOND         PA    GY   \n",
      "9975             CA           201712.0  NaN  MERZ         PA    BK   \n",
      "9976             CA           201810.0  NaN  TOYT         PA    WT   \n",
      "9977             MX                NaN  NaN  MAZD         PA    WT   \n",
      "9978             CA                4.0  NaN  GRUM         TK    BN   \n",
      "9979             CA           201506.0  NaN  VOLK         PA    BL   \n",
      "9980             CA           201801.0  NaN  TOYT         PA    SL   \n",
      "9981             CA           201612.0  NaN   BMW         PA    GY   \n",
      "9982             CA           201601.0  NaN  MERZ         PA    BK   \n",
      "9983             CA           201703.0  NaN  CHEV         PA    WH   \n",
      "9984             CA           201905.0  NaN  LNDR         PA    GY   \n",
      "9985             CA           201602.0  NaN  OTHR         MH    WT   \n",
      "9986             CA           201808.0  NaN  AUDI         PA    BK   \n",
      "9987             OK                NaN  NaN   UNK         TR    WT   \n",
      "9988             CA           201707.0  NaN  FORD         PA    GY   \n",
      "9989             CA           201807.0  NaN  FORD         PA    SL   \n",
      "9990             CA           201511.0  NaN   GMC         TR    WH   \n",
      "9991             CA           201907.0  NaN  HOND         PA    GY   \n",
      "9992             CA           201906.0  NaN  TOYT         PA    WT   \n",
      "9993             CA               12.0  NaN  NISS         PA    WT   \n",
      "9994             CA           201507.0  NaN  AUDI         PA    GY   \n",
      "9995             CA           201708.0  NaN  TOYT         PU    BL   \n",
      "9996             CA           201811.0  NaN  ACUR         PA    GY   \n",
      "9997             CA                6.0  NaN  HOND         PA    SL   \n",
      "9998             CA           201607.0  NaN  FORD         PA    BL   \n",
      "9999             CA           201702.0  NaN   BMW         PA    BK   \n",
      "\n",
      "                         Location  Route  Agency Violation code  \\\n",
      "0                   2018 7TH ST W  00600    58.0       80.69AP+   \n",
      "1                 1730 CAMDEN AVE  00102    51.0        80.69BS   \n",
      "2                 7601 MELROSE AV  00472    54.0        88.13B+   \n",
      "3              8255 VAN NOORD AVE  35MQ1     1.0            098   \n",
      "4                  1020 LAKE ST E  00134    51.0         22502A   \n",
      "5                1332 SANTEE ST S  00684    56.0        88.13B+   \n",
      "6                 201 FULLER AV N  00483    54.0        88.13B+   \n",
      "7                  1388 48TH PL E   534H    55.0       80.56E4+   \n",
      "8                 1641 N IVAR AVE   402A    54.0         80.69B   \n",
      "9        6100 SEPULVEDA BOULEVARD  00319    53.0       22507.8C   \n",
      "10           1600 IRVING TABOR CT  00111    51.0         80.69B   \n",
      "11                2360 PELHAM AVE   206A    51.0         80.58L   \n",
      "12              819 S  MULLEN AVE  00477    54.0         80.58L   \n",
      "13        1731 NORTH VISTA STREET  00401    54.0         80.58L   \n",
      "14              7040 WHITSETT AVE  00353    53.0        80.69BS   \n",
      "15                10100 VENICE BL   309A    51.0        88.13B+   \n",
      "16               1301 SANTEE ST S  00181    56.0        88.13B+   \n",
      "17          6326 LEXINGTON AVENUE  00485    54.0        80.69BS   \n",
      "18                10885 PICO BL W  00403    51.0         5204A-   \n",
      "19             15416 CHASE STREET  00319    53.0         22500F   \n",
      "20                 2207 BEACHWOOD  00447    54.0         8069BS   \n",
      "21               8600 WYSTONE AVE  00334    53.0        80.69BS   \n",
      "22                4501 AVOCADO ST  00445    54.0        88.13B+   \n",
      "23               1019 MAPLE AVE S  00681    56.0        88.13B+   \n",
      "24                  842 WALL ST S  00600    56.0        80.56E2   \n",
      "25                 300 OLIVE ST S  00656    56.0        88.13B+   \n",
      "26        2013 WILSHIRE BOULEVARD  00600    56.0        80.56E2   \n",
      "27             6020 HAZELTINE AVE  360R1    53.0        80.56E2   \n",
      "28              1101 CHICAGO ST N  00600    56.0        88.13B+   \n",
      "29                22300 OXNARD ST  00321    53.0        80.69.2   \n",
      "...                           ...    ...     ...            ...   \n",
      "9970               1701 KELTON AV  00153    51.0        88.13B+   \n",
      "9971              13445 BEACH AVE  00131    51.0         80.69C   \n",
      "9972        3959 GIBRALTAR AVENUE  00500    55.0          86.06   \n",
      "9973             12057 VENTURA PL  00358    53.0        88.13B+   \n",
      "9974        5525 A/F ETIWANDA AVE  00374    53.0        80.69BS   \n",
      "9975              1830 PONTIUS AV  00187    51.0         88.03A   \n",
      "9976            11201 VENICE BLVD  00137    51.0         22500F   \n",
      "9977           1780 EL CERRITO PL   402B    54.0         80.58L   \n",
      "9978             1111 GRAND AVE S  00653    56.0        80.56E1   \n",
      "9979             456 LANDFAIR AVE  00172    51.0         80.69C   \n",
      "9980     6508 HOLLYWOOD BOULEVARD  00401    54.0        22500I-   \n",
      "9981               8800 PICO BL W  00102    51.0        88.13B+   \n",
      "9982               1834 SELBY AVE  00111    51.0           5200   \n",
      "9983             535 S PACIFIC AV  00001     1.0        225078A   \n",
      "9984               7600 SUNSET BL  00485    54.0        88.13B+   \n",
      "9985               2618 SICHEL ST  00632    56.0        80.69BS   \n",
      "9986               11160 KLING ST  00355    53.0        80.69BS   \n",
      "9987    1611 CESAR E CHAVEZ AVE E  00676    56.0       80.56E4+   \n",
      "9988             4501 VAN NUYS BL  00315    53.0        88.13B+   \n",
      "9989             12101 VENTURA BL   310W    53.0        88.13B+   \n",
      "9990              835 S PARK VIEW  00261     1.0          5204A   \n",
      "9991              3300 DERONDA DR    NaN     4.0          8058L   \n",
      "9992               649 PALMS BLVD  00135    54.0        80.69BS   \n",
      "9993              700 SPRING ST S  00686    56.0        88.13B+   \n",
      "9994          3905 INGLEWOOD BLVD  00111    51.0         5204A-   \n",
      "9995  13716 1/2 VENTURA BOULEVARD  00309    53.0          80.61   \n",
      "9996             751 CROCKER ST S  00600    56.0         80.69C   \n",
      "9997     1530 SIERRA BONITA AVE N  00401    54.0         80.58L   \n",
      "9998         CUMMINGS S/O MICHIGA    NaN     1.0         4000A1   \n",
      "9999            1301 ELECTRIC AVE  00906    51.0         5204A-   \n",
      "\n",
      "         Violation Description  Fine amount      Latitude     Longitude  \n",
      "0             NO STOP/STANDING         93.0  9.999900e+04  9.999900e+04  \n",
      "1         NO PARK/STREET CLEAN         73.0  6.427837e+06  1.840039e+06  \n",
      "2                   METER EXP.         63.0  6.454080e+06  1.853024e+06  \n",
      "3                         5200         25.0  6.436085e+06  1.903037e+06  \n",
      "4            18 IN. CURB/2 WAY         63.0  6.422058e+06  1.823394e+06  \n",
      "5                   METER EXP.         63.0  6.483338e+06  1.835152e+06  \n",
      "6                   METER EXP.         63.0  6.455734e+06  1.848415e+06  \n",
      "7                     RED ZONE         93.0  6.485842e+06  1.822225e+06  \n",
      "8                   NO PARKING         73.0  6.462322e+06  1.859127e+06  \n",
      "9         DISABLED PARKING/CRO        363.0  6.420675e+06  1.888723e+06  \n",
      "10                  NO PARKING         73.0  6.421106e+06  1.819197e+06  \n",
      "11        PREFERENTIAL PARKING         68.0  6.433098e+06  1.838373e+06  \n",
      "12        PREFERENTIAL PARKING         68.0  6.461435e+06  1.844594e+06  \n",
      "13        PREFERENTIAL PARKING         68.0  6.455145e+06  1.859759e+06  \n",
      "14        NO PARK/STREET CLEAN         73.0  6.439127e+06  1.894901e+06  \n",
      "15                  METER EXP.         63.0  6.440399e+06  1.830763e+06  \n",
      "16                  METER EXP.         63.0  6.483419e+06  1.835271e+06  \n",
      "17        NO PARK/STREET CLEAN         73.0  6.462467e+06  1.856230e+06  \n",
      "18             DISPLAY OF TABS         25.0  6.431640e+06  1.837137e+06  \n",
      "19          PARKED ON SIDEWALK         68.0  9.999900e+04  9.999900e+04  \n",
      "20        NO PARK/STREET CLEAN         73.0  6.464353e+06  1.862661e+06  \n",
      "21        NO PARK/STREET CLEAN         73.0  6.396307e+06  1.905229e+06  \n",
      "22                  METER EXP.         63.0  6.474662e+06  1.862805e+06  \n",
      "23                  METER EXP.         63.0  6.524096e+06  1.821153e+06  \n",
      "24                 YELLOW ZONE         58.0  6.485613e+06  1.836863e+06  \n",
      "25                  METER EXP.         63.0  6.485891e+06  1.841527e+06  \n",
      "26                 YELLOW ZONE         58.0  9.999900e+04  9.999900e+04  \n",
      "27                 YELLOW ZONE         58.0  6.428596e+06  1.888210e+06  \n",
      "28                  METER EXP.         63.0  6.499255e+06  1.842837e+06  \n",
      "29    COMM VEH OVER TIME LIMIT         78.0  6.376411e+06  1.888160e+06  \n",
      "...                        ...          ...           ...           ...  \n",
      "9970                METER EXP.         63.0  6.428069e+06  1.841410e+06  \n",
      "9971      PARKED OVER TIME LIM         58.0  6.426691e+06  1.819331e+06  \n",
      "9972          CITY PARK/PROHIB         58.0  6.454166e+06  1.828222e+06  \n",
      "9973                METER EXP.         63.0  6.442428e+06  1.875124e+06  \n",
      "9974      NO PARK/STREET CLEAN         73.0  9.999900e+04  9.999900e+04  \n",
      "9975       OUTSIDE LINES/METER         58.0  6.427472e+06  1.839118e+06  \n",
      "9976        PARKED ON SIDEWALK         68.0  6.435205e+06  1.827384e+06  \n",
      "9977      PREFERENTIAL PARKING         68.0  6.457282e+06  1.860277e+06  \n",
      "9978                WHITE ZONE         58.0  6.482262e+06  1.837556e+06  \n",
      "9979      PARKED OVER TIME LIM         58.0  6.424780e+06  1.847935e+06  \n",
      "9980        PARKED IN BUS ZONE        293.0  6.461356e+06  1.859519e+06  \n",
      "9981                METER EXP.         63.0  6.445442e+06  1.842534e+06  \n",
      "9982         DISPLAY OF PLATES         25.0  6.430462e+06  1.840952e+06  \n",
      "9983         HANDICAP/NO DP ID        363.0  6.474129e+06  1.727765e+06  \n",
      "9984                METER EXP.         63.0  6.454188e+06  1.858250e+06  \n",
      "9985      NO PARK/STREET CLEAN         73.0  9.999900e+04  9.999900e+04  \n",
      "9986      NO PARK/STREET CLEAN         73.0  6.448450e+06  1.879202e+06  \n",
      "9987                  RED ZONE         93.0  6.495419e+06  1.841262e+06  \n",
      "9988                METER EXP.         63.0  6.425916e+06  1.878370e+06  \n",
      "9989                METER EXP.         63.0  6.442262e+06  1.875222e+06  \n",
      "9990              EXPIRED TAGS         25.0  9.999900e+04  9.999900e+04  \n",
      "9991              PREF PARKING         68.0  6.464859e+06  1.868626e+06  \n",
      "9992      NO PARK/STREET CLEAN         73.0  9.999900e+04  9.999900e+04  \n",
      "9993                METER EXP.         63.0  6.489617e+06  1.844244e+06  \n",
      "9994           DISPLAY OF TABS         25.0  6.432207e+06  1.824112e+06  \n",
      "9995          STANDNG IN ALLEY         68.0  6.431031e+06  1.876563e+06  \n",
      "9996    PARKED OVER TIME LIMIT         58.0  6.486606e+06  1.836434e+06  \n",
      "9997      PREFERENTIAL PARKING         68.0  6.454518e+06  1.858447e+06  \n",
      "9998        NO EVIDENCE OF REG         50.0  9.999900e+04  9.999900e+04  \n",
      "9999           DISPLAY OF TABS         25.0  6.419829e+06  1.819688e+06  \n",
      "\n",
      "[10000 rows x 19 columns]\n"
     ]
    }
   ],
   "source": [
    "# reads csv into df\n",
    "cit_df = pd.read_csv(\"10000-rand-parking-citations.csv\")\n",
    "print(cit_df)"
   ]
  },
  {
   "cell_type": "code",
   "execution_count": null,
   "metadata": {},
   "outputs": [],
   "source": []
  },
  {
   "cell_type": "markdown",
   "metadata": {},
   "source": [
    "# Data Analysis & Results"
   ]
  },
  {
   "cell_type": "markdown",
   "metadata": {},
   "source": [
    "Include cells that describe the steps in your data analysis."
   ]
  },
  {
   "cell_type": "code",
   "execution_count": 5,
   "metadata": {},
   "outputs": [],
   "source": [
    "## YOUR CODE HERE\n",
    "## FEEL FREE TO ADD MULTIPLE CELLS PER SECTION"
   ]
  },
  {
   "cell_type": "markdown",
   "metadata": {},
   "source": [
    "# Ethics & Privacy"
   ]
  },
  {
   "cell_type": "markdown",
   "metadata": {},
   "source": [
    "*Fill in your ethics & privacy discussion here*"
   ]
  },
  {
   "cell_type": "markdown",
   "metadata": {},
   "source": [
    "# Conclusion & Discussion"
   ]
  },
  {
   "cell_type": "markdown",
   "metadata": {},
   "source": [
    "*Fill in your discussion information here*"
   ]
  }
 ],
 "metadata": {
  "kernelspec": {
   "display_name": "Python 3",
   "language": "python",
   "name": "python3"
  },
  "language_info": {
   "codemirror_mode": {
    "name": "ipython",
    "version": 3
   },
   "file_extension": ".py",
   "mimetype": "text/x-python",
   "name": "python",
   "nbconvert_exporter": "python",
   "pygments_lexer": "ipython3",
   "version": "3.7.3"
  }
 },
 "nbformat": 4,
 "nbformat_minor": 2
}
